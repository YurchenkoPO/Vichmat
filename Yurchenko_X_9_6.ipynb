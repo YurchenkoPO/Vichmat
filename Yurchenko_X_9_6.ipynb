{
 "cells": [
  {
   "cell_type": "markdown",
   "metadata": {},
   "source": [
    "## Задача $X.9.6$ $(2)$\n",
    "### Найдите решение методом стрельбы при а = 1 и различных b. Что происходит при 0 < b < 1,499719998?\n",
    "$$ y'' = e^y, y(0) = 1, y(1) = b $$\n",
    "\n"
   ]
  },
  {
   "cell_type": "code",
   "execution_count": 1,
   "metadata": {},
   "outputs": [],
   "source": [
    "import math\n",
    "import numpy as np"
   ]
  },
  {
   "cell_type": "code",
   "execution_count": 3,
   "metadata": {},
   "outputs": [],
   "source": [
    "x_arr = list()\n",
    "y_arr = list()\n",
    "def f(x, y):\n",
    "    return math.e ** y"
   ]
  },
  {
   "cell_type": "code",
   "execution_count": 4,
   "metadata": {},
   "outputs": [],
   "source": [
    "def next_y(yy,h,y):\n",
    "    return y-h*yy\n",
    "def next_yy(y,x,h,yy):\n",
    "    return yy-h*f(x,y)\n",
    "def solve_koshi(alpha,h,b):\n",
    "    x=1\n",
    "    y=b\n",
    "    yy=alpha\n",
    "    while x>0:\n",
    "        y1=next_y(yy,h,y)\n",
    "        yy1=next_yy(y,x,h,yy)\n",
    "        y=y1\n",
    "        yy=yy1\n",
    "        x = x - h\n",
    "    return y"
   ]
  },
  {
   "cell_type": "code",
   "execution_count": 5,
   "metadata": {},
   "outputs": [],
   "source": [
    "def solve_in_file(alp,eps,h,b):\n",
    "\n",
    "    tmph = h\n",
    "    while 1:\n",
    "        tmp1 = solve_koshi(alp, tmph,b)\n",
    "        tmp2 = solve_koshi(alp, tmph / 2,b)\n",
    "        if abs(tmp1 - tmp2) < eps:\n",
    "            break\n",
    "        else:\n",
    "            tmph = tmph / 2\n",
    "\n",
    "\n",
    "    x = 1\n",
    "    y = b\n",
    "    yy = alp\n",
    "    while x > 0:\n",
    "        x_arr.append(x)\n",
    "        y_arr.append(y)\n",
    "        #f1.write(str(x)) \n",
    "        #f1.write('\\n')\n",
    "        #f2.write(str(y))\n",
    "        #f2.write('\\n')\n",
    "        y1 = next_y(yy, tmph, y)\n",
    "        yy1 = next_yy(y, x, tmph, yy)\n",
    "        y = y1\n",
    "        yy = yy1\n",
    "        x = x - tmph\n"
   ]
  },
  {
   "cell_type": "code",
   "execution_count": 6,
   "metadata": {},
   "outputs": [],
   "source": [
    "def solve_koshi_with_epsilon(alpha,h,eps,b):\n",
    "    tmph=h\n",
    "    while 1:\n",
    "        tmp1=solve_koshi(alpha, tmph,b)\n",
    "        tmp2=solve_koshi(alpha, tmph/2,b)\n",
    "        if abs(tmp1-tmp2)<eps:\n",
    "            break\n",
    "        else:\n",
    "            tmph = tmph/2\n",
    "\n",
    "    return tmp2"
   ]
  },
  {
   "cell_type": "code",
   "execution_count": 7,
   "metadata": {},
   "outputs": [],
   "source": [
    "def solve(alp1,alp2,eps,h,b):\n",
    "    if abs(solve_koshi_with_epsilon((alp1+alp2)/2,h,eps,b)-solve_koshi_with_epsilon((alp1+alp2)/2,h/4,eps,b))<eps:\n",
    "        print solve_koshi(alp1,h,b)\n",
    "    else:\n",
    "        tmp = solve_koshi_with_epsilon((alp1+alp2)/2,h,eps,b)\n",
    "        #print(tmp)\n",
    "        if tmp>1:\n",
    "            solve((alp2+alp1)/2, alp2, eps, h,b)\n",
    "        else:\n",
    "            solve(alp1,(alp2 + alp1) / 2 , eps, h,b)"
   ]
  },
  {
   "cell_type": "markdown",
   "metadata": {},
   "source": [
    "##### Посмотрим, можду какими значениями $\\alpha$ находится искомое значение"
   ]
  },
  {
   "cell_type": "code",
   "execution_count": 8,
   "metadata": {},
   "outputs": [
    {
     "name": "stdout",
     "output_type": "stream",
     "text": [
      "(1.8424934200973315, 'alpha = -1')\n",
      "(-0.6119134060543537, 'alpha = 1')\n",
      "Значит нужно искать между этими значениями\n"
     ]
    }
   ],
   "source": [
    "start_h = 0.01\n",
    "epsilon = 0.001\n",
    "b = 0\n",
    "\n",
    "g = solve_koshi_with_epsilon(-1, start_h, epsilon, b)\n",
    "print(g,  \"alpha = -1\")\n",
    "g = solve_koshi_with_epsilon(1, start_h, epsilon, b)\n",
    "print(g,  \"alpha = 1\")\n",
    "print(\"Значит нужно искать между этими значениями\")"
   ]
  },
  {
   "cell_type": "markdown",
   "metadata": {},
   "source": [
    "#### Для различных $b$ иммеем:"
   ]
  },
  {
   "cell_type": "code",
   "execution_count": 11,
   "metadata": {},
   "outputs": [
    {
     "name": "stdout",
     "output_type": "stream",
     "text": [
      "1.8190653583800007\n",
      "2.0221993572405834\n",
      "2.241259061892002\n",
      "2.4797177252219957\n",
      "2.7422134632578823\n",
      "3.0351386294944187\n",
      "3.3676577133379437\n",
      "3.7535902021870626\n",
      "4.2152166739224395\n",
      "4.7919528916609675\n",
      "5.563844085894264\n",
      "6.735412935426808\n",
      "9.151622170413821\n"
     ]
    }
   ],
   "source": [
    "for b in np.arange(0,1.3, 0.1):\n",
    "    solve(-1,1,epsilon,start_h, b)"
   ]
  },
  {
   "cell_type": "markdown",
   "metadata": {},
   "source": [
    "#### Теперь решаем задачу которая легко решается заменой p(y) = y'.\n",
    "$$ y'' = e^y $$\n",
    "$$ y(0) = 1 $$\n",
    "$$ y'(1) = \\alpha $$,\n"
   ]
  },
  {
   "cell_type": "code",
   "execution_count": null,
   "metadata": {},
   "outputs": [],
   "source": []
  }
 ],
 "metadata": {
  "kernelspec": {
   "display_name": "Python 2",
   "language": "python",
   "name": "python2"
  },
  "language_info": {
   "codemirror_mode": {
    "name": "ipython",
    "version": 2
   },
   "file_extension": ".py",
   "mimetype": "text/x-python",
   "name": "python",
   "nbconvert_exporter": "python",
   "pygments_lexer": "ipython2",
   "version": "2.7.14"
  }
 },
 "nbformat": 4,
 "nbformat_minor": 2
}
